{
 "cells": [
  {
   "cell_type": "code",
   "execution_count": 1,
   "metadata": {},
   "outputs": [],
   "source": [
    "import os\n",
    "import pickle"
   ]
  },
  {
   "cell_type": "code",
   "execution_count": 2,
   "metadata": {},
   "outputs": [
    {
     "name": "stdout",
     "output_type": "stream",
     "text": [
      "/mnt/d/OneDrive/Mestrado/Semestre 02/SYSID/SYSID_Trabalho/SPE-DataSet/data/bywell.pkl\n",
      "Read entry of events: ALBATROSS\n",
      "Read entry of events: ARCHAEOPTERYX\n",
      "Read entry of events: AVOCET\n",
      "Read entry of events: BEE-EATER\n",
      "Read entry of events: BLUEBIRD\n",
      "Read entry of events: CANARY\n",
      "Read entry of events: CARDINAL\n",
      "Read entry of events: CASSOWARY\n",
      "Read entry of events: CRANE\n",
      "Read entry of events: CROW\n",
      "Read entry of events: CUCKOO\n",
      "Read entry of events: DUCK\n",
      "Read entry of events: EAGLE\n",
      "Read entry of events: EGRET\n",
      "Read entry of events: EMU\n",
      "Read entry of events: FALCON\n",
      "Read entry of events: FINCH\n",
      "Read entry of events: FLAMINGO\n",
      "Read entry of events: GOOSE\n",
      "Read entry of events: HARPY\n",
      "Read entry of events: HAWK\n",
      "Read entry of events: HERON\n",
      "Read entry of events: HUMMINGBIRD\n",
      "Read entry of events: IBIS\n",
      "Read entry of events: JAY\n",
      "Read entry of events: KITE\n",
      "Read entry of events: LARK\n",
      "Read entry of events: LOON\n",
      "Read entry of events: LORIKEET\n",
      "Read entry of events: MACAW\n",
      "Read entry of events: MYNAH\n",
      "Read entry of events: ORIOLE\n",
      "Read entry of events: OSPREY\n",
      "Read entry of events: OSTRICH\n",
      "Read entry of events: OWL\n",
      "Read entry of events: PARROT\n",
      "Read entry of events: PARTRIDGE\n",
      "Read entry of events: PEACOCK\n",
      "Read entry of events: PELICAN\n",
      "Read entry of events: PENGUIN\n",
      "Read entry of events: PHEASANT\n",
      "Read entry of events: PHOENIX\n",
      "Read entry of events: ROBIN\n",
      "Read entry of events: ROOSTER\n",
      "Read entry of events: SEAGULL\n",
      "Read entry of events: SPARROW\n",
      "Read entry of events: STILT\n",
      "Read entry of events: STORK\n",
      "Read entry of events: SWAN\n",
      "Read entry of events: SWIFT\n",
      "Read entry of events: TERN\n",
      "Read entry of events: TOUCAN\n",
      "Read entry of events: WARBLER\n"
     ]
    }
   ],
   "source": [
    "binary = os.path.join(os.getcwd(), 'data', 'bywell.pkl')\n",
    "print(binary)\n",
    "raw_data = {}\n",
    "with open(binary, 'rb') as bin_file:\n",
    "    try:\n",
    "        while True:\n",
    "            content = pickle.load(bin_file)\n",
    "            print('Read entry of events:', content[0])\n",
    "            raw_data[content[0]] = content[1]\n",
    "            del content\n",
    "    except EOFError:\n",
    "        pass"
   ]
  }
 ],
 "metadata": {
  "kernelspec": {
   "display_name": "Python 3.10.0 ('control')",
   "language": "python",
   "name": "python3"
  },
  "language_info": {
   "codemirror_mode": {
    "name": "ipython",
    "version": 3
   },
   "file_extension": ".py",
   "mimetype": "text/x-python",
   "name": "python",
   "nbconvert_exporter": "python",
   "pygments_lexer": "ipython3",
   "version": "3.10.0"
  },
  "orig_nbformat": 4,
  "vscode": {
   "interpreter": {
    "hash": "33f270a2ca47397b46974cef3528e98ccade154a5094b511d44fad4d3933988e"
   }
  }
 },
 "nbformat": 4,
 "nbformat_minor": 2
}
