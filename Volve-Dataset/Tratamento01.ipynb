{
 "cells": [
  {
   "cell_type": "markdown",
   "metadata": {},
   "source": [
    "### VOLVE Dataset Preliminary Study - production data\n",
    "\n",
    "\n"
   ]
  },
  {
   "cell_type": "code",
   "execution_count": 1,
   "metadata": {},
   "outputs": [],
   "source": [
    "import pandas as pd\n",
    "import numpy as np\n",
    "import matplotlib.pyplot as plt\n",
    "import pickle\n",
    "import os\n",
    "\n",
    "\n",
    "import utils"
   ]
  },
  {
   "cell_type": "code",
   "execution_count": 8,
   "metadata": {},
   "outputs": [
    {
     "name": "stdout",
     "output_type": "stream",
     "text": [
      "<class 'pandas.core.frame.DataFrame'>\n",
      "RangeIndex: 15634 entries, 0 to 15633\n",
      "Data columns (total 28 columns):\n",
      " #   Column                    Non-Null Count  Dtype         \n",
      "---  ------                    --------------  -----         \n",
      " 0   DATEPRD                   15634 non-null  datetime64[ns]\n",
      " 1   month                     15634 non-null  int64         \n",
      " 2   year                      15634 non-null  int64         \n",
      " 3   month-year                15634 non-null  object        \n",
      " 4   WELL_BORE_CODE            15634 non-null  object        \n",
      " 5   NPD_WELL_BORE_CODE        15634 non-null  int64         \n",
      " 6   NPD_WELL_BORE_NAME        15634 non-null  object        \n",
      " 7   NPD_FIELD_CODE            15634 non-null  int64         \n",
      " 8   NPD_FIELD_NAME            15634 non-null  object        \n",
      " 9   NPD_FACILITY_CODE         15634 non-null  int64         \n",
      " 10  NPD_FACILITY_NAME         15634 non-null  object        \n",
      " 11  ON_STREAM_HRS             15349 non-null  float64       \n",
      " 12  AVG_DOWNHOLE_PRESSURE     8980 non-null   float64       \n",
      " 13  AVG_DOWNHOLE_TEMPERATURE  8980 non-null   float64       \n",
      " 14  AVG_DP_TUBING             8980 non-null   float64       \n",
      " 15  AVG_ANNULUS_PRESS         7890 non-null   float64       \n",
      " 16  AVG_CHOKE_SIZE_P          8919 non-null   float64       \n",
      " 17  AVG_CHOKE_UOM             9161 non-null   object        \n",
      " 18  AVG_WHP_P                 9155 non-null   float64       \n",
      " 19  AVG_WHT_P                 9146 non-null   float64       \n",
      " 20  DP_CHOKE_SIZE             15340 non-null  float64       \n",
      " 21  BORE_OIL_VOL              9161 non-null   float64       \n",
      " 22  BORE_GAS_VOL              9161 non-null   float64       \n",
      " 23  BORE_WAT_VOL              9161 non-null   float64       \n",
      " 24  BORE_WI_VOL               5706 non-null   float64       \n",
      " 25  FLOW_KIND                 15634 non-null  object        \n",
      " 26  WELL_TYPE                 15634 non-null  object        \n",
      " 27  AVG_RS                    15634 non-null  object        \n",
      "dtypes: datetime64[ns](1), float64(13), int64(5), object(9)\n",
      "memory usage: 3.3+ MB\n"
     ]
    }
   ],
   "source": [
    "csvfile = os.path.join(os.getcwd(), 'data', 'Volve_production_data.csv')\n",
    "df = pd.read_csv(csvfile, sep=';', decimal=',')\n",
    "\n",
    "rate_cols = ['BORE_OIL_VOL','BORE_GAS_VOL','BORE_WAT_VOL','BORE_WI_VOL']\n",
    "df[rate_cols] = df[rate_cols].astype(float)\n",
    "df['DATEPRD'] = df['DATEPRD'].apply(utils.convert_dates)\n",
    "\n",
    "df.info()"
   ]
  },
  {
   "cell_type": "code",
   "execution_count": 9,
   "metadata": {},
   "outputs": [],
   "source": [
    "cum_cols = ['BORE_OIL_CUM','BORE_GAS_CUM','BORE_WAT_CUM','BORE_WI_CUM']\n",
    "df.insert(1,'N', df.groupby(['NPD_WELL_BORE_NAME']).cumcount())\n",
    "cumdf = df[rate_cols + ['NPD_WELL_BORE_NAME']].groupby(['NPD_WELL_BORE_NAME']).cumsum()\n",
    "for col_orig, col_end in zip(rate_cols, cum_cols):\n",
    "    df.insert(1,col_end, cumdf[col_orig])\n",
    "df['BORE_LIQ_CUM'] = df['BORE_OIL_CUM'] + df['BORE_WAT_CUM']\n",
    "df['BORE_LIQ_VOL'] = df['BORE_OIL_VOL'] + df['BORE_WAT_VOL']\n",
    "\n",
    "df = df.drop(columns=['month', 'year', 'month-year', 'WELL_BORE_CODE', 'NPD_WELL_BORE_CODE', 'NPD_FIELD_CODE', 'NPD_FACILITY_CODE', 'FLOW_KIND'])"
   ]
  },
  {
   "cell_type": "code",
   "execution_count": 10,
   "metadata": {},
   "outputs": [],
   "source": [
    "output = {}\n",
    "for well in np.unique(df['NPD_WELL_BORE_NAME']):\n",
    "    well_df = df[df['NPD_WELL_BORE_NAME']==well]\n",
    "    well_type = np.unique(well_df['WELL_TYPE'])[0]\n",
    "    if not well_type in output.keys():\n",
    "        output[well_type] = {}\n",
    "    output[well_type][well] = well_df.drop(columns=['NPD_WELL_BORE_NAME', 'WELL_TYPE'])\n",
    "    "
   ]
  },
  {
   "cell_type": "code",
   "execution_count": 11,
   "metadata": {},
   "outputs": [],
   "source": [
    "outfile = os.path.join(os.getcwd(), 'data', 'volve_compiled.pkl')\n",
    "with open(outfile, 'wb') as outf:\n",
    "    pickle.dump(output, outf)"
   ]
  },
  {
   "cell_type": "code",
   "execution_count": 12,
   "metadata": {},
   "outputs": [
    {
     "data": {
      "text/plain": [
       "2"
      ]
     },
     "execution_count": 12,
     "metadata": {},
     "output_type": "execute_result"
    }
   ],
   "source": [
    "len(output.keys())"
   ]
  },
  {
   "cell_type": "code",
   "execution_count": 13,
   "metadata": {},
   "outputs": [
    {
     "data": {
      "text/plain": [
       "1"
      ]
     },
     "execution_count": 13,
     "metadata": {},
     "output_type": "execute_result"
    }
   ],
   "source": [
    "len(output['WI'])"
   ]
  }
 ],
 "metadata": {
  "kernelspec": {
   "display_name": "Python 3.10.0 ('control')",
   "language": "python",
   "name": "python3"
  },
  "language_info": {
   "codemirror_mode": {
    "name": "ipython",
    "version": 3
   },
   "file_extension": ".py",
   "mimetype": "text/x-python",
   "name": "python",
   "nbconvert_exporter": "python",
   "pygments_lexer": "ipython3",
   "version": "3.11.3"
  },
  "orig_nbformat": 4,
  "vscode": {
   "interpreter": {
    "hash": "33f270a2ca47397b46974cef3528e98ccade154a5094b511d44fad4d3933988e"
   }
  }
 },
 "nbformat": 4,
 "nbformat_minor": 2
}
